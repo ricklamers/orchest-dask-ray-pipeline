{
 "cells": [
  {
   "cell_type": "code",
   "execution_count": 1,
   "metadata": {},
   "outputs": [],
   "source": [
    "import ray"
   ]
  },
  {
   "cell_type": "code",
   "execution_count": 2,
   "metadata": {},
   "outputs": [
    {
     "name": "stderr",
     "output_type": "stream",
     "text": [
      "2021-03-03 18:04:39,193\tINFO services.py:1174 -- View the Ray dashboard at \u001b[1m\u001b[32mhttp://127.0.0.1:8265\u001b[39m\u001b[22m\n"
     ]
    },
    {
     "name": "stderr",
     "output_type": "stream",
     "text": [
      "2021-03-03 18:04:39,198\tWARNING services.py:1628 -- WARNING: The object store is using /tmp instead of /dev/shm because /dev/shm has only 67108864 bytes available. This will harm performance! You may be able to free up space by deleting files in /dev/shm. If you are inside a Docker container, you can increase /dev/shm size by passing '--shm-size=Xgb' to 'docker run' (or add it to the run_options list in a Ray cluster config). Make sure to set this to more than 2gb.\n"
     ]
    },
    {
     "data": {
      "text/plain": [
       "{'node_ip_address': '172.31.0.17',\n",
       " 'raylet_ip_address': '172.31.0.17',\n",
       " 'redis_address': '172.31.0.17:6379',\n",
       " 'object_store_address': '/tmp/ray/session_2021-03-03_18-04-38_593014_14/sockets/plasma_store',\n",
       " 'raylet_socket_name': '/tmp/ray/session_2021-03-03_18-04-38_593014_14/sockets/raylet',\n",
       " 'webui_url': '127.0.0.1:8265',\n",
       " 'session_dir': '/tmp/ray/session_2021-03-03_18-04-38_593014_14',\n",
       " 'metrics_export_port': 41999,\n",
       " 'node_id': '64059ef4d674811eaba2fde5042fb28e5086acbb0b7672eaa835ca12'}"
      ]
     },
     "execution_count": 2,
     "metadata": {},
     "output_type": "execute_result"
    }
   ],
   "source": [
    "ray.init()"
   ]
  },
  {
   "cell_type": "code",
   "execution_count": 3,
   "metadata": {},
   "outputs": [],
   "source": [
    "@ray.remote\n",
    "class Counter(object):\n",
    "    def __init__(self):\n",
    "        self.n = 0\n",
    "    \n",
    "    def increment(self):\n",
    "        self.n += 1\n",
    "    \n",
    "    def read(self):\n",
    "        return self.n"
   ]
  },
  {
   "cell_type": "code",
   "execution_count": 4,
   "metadata": {},
   "outputs": [
    {
     "data": {
      "text/plain": [
       "[1, 1, 1, 1]"
      ]
     },
     "execution_count": 4,
     "metadata": {},
     "output_type": "execute_result"
    }
   ],
   "source": [
    "counters = [Counter.remote() for i in range(4)]\n",
    "[c.increment.remote() for c in counters]\n",
    "futures = [c.read.remote() for c in counters]\n",
    "ray.get(futures)"
   ]
  },
  {
   "cell_type": "code",
   "execution_count": 5,
   "metadata": {},
   "outputs": [],
   "source": [
    "from ray import tune"
   ]
  },
  {
   "cell_type": "code",
   "execution_count": 6,
   "metadata": {},
   "outputs": [],
   "source": [
    "def objective(step, alpha, beta):\n",
    "    return (0.1 + alpha * step / 100)**(-1) + beta * 0.1"
   ]
  },
  {
   "cell_type": "code",
   "execution_count": 7,
   "metadata": {},
   "outputs": [],
   "source": [
    "def training_function(config):\n",
    "    alpha, beta = config[\"alpha\"], config[\"beta\"]\n",
    "    \n",
    "    for step in range(10):\n",
    "        intermediate_score = objective(step, alpha, beta)\n",
    "        tune.report(mean_loss=intermediate_score)"
   ]
  },
  {
   "cell_type": "code",
   "execution_count": 8,
   "metadata": {},
   "outputs": [
    {
     "name": "stderr",
     "output_type": "stream",
     "text": [
      "2021-03-03 18:04:42,478\tWARNING function_runner.py:541 -- Function checkpointing is disabled. This may result in unexpected behavior when using checkpointing features or certain schedulers. To enable, set the train function arguments to be `func(config, checkpoint_dir=None)`.\n"
     ]
    },
    {
     "data": {
      "text/html": [
       "== Status ==<br>Memory usage on this node: 4.7/29.4 GiB<br>Using FIFO scheduling algorithm.<br>Resources requested: 1/8 CPUs, 0/0 GPUs, 0.0/17.53 GiB heap, 0.0/6.05 GiB objects<br>Result logdir: /home/jovyan/ray_results/training_function_2021-03-03_18-04-42<br>Number of trials: 1/3 (1 RUNNING)<br><table>\n",
       "<thead>\n",
       "<tr><th>Trial name                   </th><th>status  </th><th>loc  </th><th style=\"text-align: right;\">  alpha</th><th style=\"text-align: right;\">  beta</th></tr>\n",
       "</thead>\n",
       "<tbody>\n",
       "<tr><td>training_function_eddc8_00000</td><td>RUNNING </td><td>     </td><td style=\"text-align: right;\">  0.001</td><td style=\"text-align: right;\">     2</td></tr>\n",
       "</tbody>\n",
       "</table><br><br>"
      ],
      "text/plain": [
       "<IPython.core.display.HTML object>"
      ]
     },
     "metadata": {},
     "output_type": "display_data"
    },
    {
     "name": "stdout",
     "output_type": "stream",
     "text": [
      "Result for training_function_eddc8_00000:\n",
      "  date: 2021-03-03_18-04-43\n",
      "  done: false\n",
      "  experiment_id: f8b79bbebb8d4ec7999bb8a7e7f8bf31\n",
      "  hostname: 5719f135e538\n",
      "  iterations_since_restore: 1\n",
      "  mean_loss: 10.2\n",
      "  neg_mean_loss: -10.2\n",
      "  node_ip: 172.31.0.17\n",
      "  pid: 120\n",
      "  time_since_restore: 0.00029468536376953125\n",
      "  time_this_iter_s: 0.00029468536376953125\n",
      "  time_total_s: 0.00029468536376953125\n",
      "  timestamp: 1614794683\n",
      "  timesteps_since_restore: 0\n",
      "  training_iteration: 1\n",
      "  trial_id: eddc8_00000\n",
      "  \n",
      "Result for training_function_eddc8_00001:\n",
      "  date: 2021-03-03_18-04-43\n",
      "  done: false\n",
      "  experiment_id: f499260dcba04c85adda37cc2bd34ada\n",
      "  hostname: 5719f135e538\n",
      "  iterations_since_restore: 1\n",
      "  mean_loss: 10.1\n",
      "  neg_mean_loss: -10.1\n",
      "  node_ip: 172.31.0.17\n",
      "  pid: 122\n",
      "  time_since_restore: 0.00023245811462402344\n",
      "  time_this_iter_s: 0.00023245811462402344\n",
      "  time_total_s: 0.00023245811462402344\n",
      "  timestamp: 1614794683\n",
      "  timesteps_since_restore: 0\n",
      "  training_iteration: 1\n",
      "  trial_id: eddc8_00001\n",
      "  \n",
      "Result for training_function_eddc8_00002:\n",
      "  date: 2021-03-03_18-04-43\n",
      "  done: false\n",
      "  experiment_id: 0c93f55830724c02a0ff2d0d402b3abe\n",
      "  hostname: 5719f135e538\n",
      "  iterations_since_restore: 1\n",
      "  mean_loss: 10.1\n",
      "  neg_mean_loss: -10.1\n",
      "  node_ip: 172.31.0.17\n",
      "  pid: 121\n",
      "  time_since_restore: 0.00020051002502441406\n",
      "  time_this_iter_s: 0.00020051002502441406\n",
      "  time_total_s: 0.00020051002502441406\n",
      "  timestamp: 1614794683\n",
      "  timesteps_since_restore: 0\n",
      "  training_iteration: 1\n",
      "  trial_id: eddc8_00002\n",
      "  \n",
      "Result for training_function_eddc8_00000:\n",
      "  date: 2021-03-03_18-04-43\n",
      "  done: true\n",
      "  experiment_id: f8b79bbebb8d4ec7999bb8a7e7f8bf31\n",
      "  experiment_tag: 0_alpha=0.001,beta=2\n",
      "  hostname: 5719f135e538\n",
      "  iterations_since_restore: 10\n",
      "  mean_loss: 10.191008092716553\n",
      "  neg_mean_loss: -10.191008092716553\n",
      "  node_ip: 172.31.0.17\n",
      "  pid: 120\n",
      "  time_since_restore: 0.06189298629760742\n",
      "  time_this_iter_s: 0.022333145141601562\n",
      "  time_total_s: 0.06189298629760742\n",
      "  timestamp: 1614794683\n",
      "  timesteps_since_restore: 0\n",
      "  training_iteration: 10\n",
      "  trial_id: eddc8_00000\n",
      "  \n",
      "Result for training_function_eddc8_00002:\n",
      "  date: 2021-03-03_18-04-43\n",
      "  done: true\n",
      "  experiment_id: 0c93f55830724c02a0ff2d0d402b3abe\n",
      "  experiment_tag: 2_alpha=0.1,beta=1\n",
      "  hostname: 5719f135e538\n",
      "  iterations_since_restore: 10\n",
      "  mean_loss: 9.274311926605503\n",
      "  neg_mean_loss: -9.274311926605503\n",
      "  node_ip: 172.31.0.17\n",
      "  pid: 121\n",
      "  time_since_restore: 0.09147047996520996\n",
      "  time_this_iter_s: 0.00909113883972168\n",
      "  time_total_s: 0.09147047996520996\n",
      "  timestamp: 1614794683\n",
      "  timesteps_since_restore: 0\n",
      "  training_iteration: 10\n",
      "  trial_id: eddc8_00002\n",
      "  \n",
      "Result for training_function_eddc8_00001:\n",
      "  date: 2021-03-03_18-04-43\n",
      "  done: true\n",
      "  experiment_id: f499260dcba04c85adda37cc2bd34ada\n",
      "  experiment_tag: 1_alpha=0.01,beta=1\n",
      "  hostname: 5719f135e538\n",
      "  iterations_since_restore: 10\n",
      "  mean_loss: 10.010802775024777\n",
      "  neg_mean_loss: -10.010802775024777\n",
      "  node_ip: 172.31.0.17\n",
      "  pid: 122\n",
      "  time_since_restore: 0.10021352767944336\n",
      "  time_this_iter_s: 0.00687408447265625\n",
      "  time_total_s: 0.10021352767944336\n",
      "  timestamp: 1614794683\n",
      "  timesteps_since_restore: 0\n",
      "  training_iteration: 10\n",
      "  trial_id: eddc8_00001\n",
      "  \n"
     ]
    },
    {
     "data": {
      "text/html": [
       "== Status ==<br>Memory usage on this node: 4.8/29.4 GiB<br>Using FIFO scheduling algorithm.<br>Resources requested: 0/8 CPUs, 0/0 GPUs, 0.0/17.53 GiB heap, 0.0/6.05 GiB objects<br>Result logdir: /home/jovyan/ray_results/training_function_2021-03-03_18-04-42<br>Number of trials: 3/3 (3 TERMINATED)<br><table>\n",
       "<thead>\n",
       "<tr><th>Trial name                   </th><th>status    </th><th>loc  </th><th style=\"text-align: right;\">  alpha</th><th style=\"text-align: right;\">  beta</th><th style=\"text-align: right;\">    loss</th><th style=\"text-align: right;\">  iter</th><th style=\"text-align: right;\">  total time (s)</th><th style=\"text-align: right;\">  neg_mean_loss</th></tr>\n",
       "</thead>\n",
       "<tbody>\n",
       "<tr><td>training_function_eddc8_00000</td><td>TERMINATED</td><td>     </td><td style=\"text-align: right;\">  0.001</td><td style=\"text-align: right;\">     2</td><td style=\"text-align: right;\">10.191  </td><td style=\"text-align: right;\">    10</td><td style=\"text-align: right;\">       0.061893 </td><td style=\"text-align: right;\">      -10.191  </td></tr>\n",
       "<tr><td>training_function_eddc8_00001</td><td>TERMINATED</td><td>     </td><td style=\"text-align: right;\">  0.01 </td><td style=\"text-align: right;\">     1</td><td style=\"text-align: right;\">10.0108 </td><td style=\"text-align: right;\">    10</td><td style=\"text-align: right;\">       0.100214 </td><td style=\"text-align: right;\">      -10.0108 </td></tr>\n",
       "<tr><td>training_function_eddc8_00002</td><td>TERMINATED</td><td>     </td><td style=\"text-align: right;\">  0.1  </td><td style=\"text-align: right;\">     1</td><td style=\"text-align: right;\"> 9.27431</td><td style=\"text-align: right;\">    10</td><td style=\"text-align: right;\">       0.0914705</td><td style=\"text-align: right;\">       -9.27431</td></tr>\n",
       "</tbody>\n",
       "</table><br><br>"
      ],
      "text/plain": [
       "<IPython.core.display.HTML object>"
      ]
     },
     "metadata": {},
     "output_type": "display_data"
    },
    {
     "name": "stderr",
     "output_type": "stream",
     "text": [
      "2021-03-03 18:04:43,650\tINFO tune.py:450 -- Total run time: 1.18 seconds (0.88 seconds for the tuning loop).\n"
     ]
    },
    {
     "name": "stdout",
     "output_type": "stream",
     "text": [
      "Best config  {'alpha': 0.1, 'beta': 1}\n"
     ]
    }
   ],
   "source": [
    "analysis = tune.run(\n",
    "    training_function,\n",
    "    config={\n",
    "        \"alpha\": tune.grid_search([0.001, 0.01, 0.1]),\n",
    "        \"beta\": tune.choice([1, 2, 3])\n",
    "    }\n",
    ")\n",
    "\n",
    "print(\"Best config \", analysis.get_best_config(\n",
    "    metric=\"mean_loss\", mode=\"min\"\n",
    "))\n",
    "\n",
    "df = analysis.results_df"
   ]
  },
  {
   "cell_type": "code",
   "execution_count": null,
   "metadata": {},
   "outputs": [],
   "source": []
  },
  {
   "cell_type": "code",
   "execution_count": null,
   "metadata": {},
   "outputs": [],
   "source": []
  }
 ],
 "metadata": {
  "kernelspec": {
   "display_name": "Python 3",
   "language": "python",
   "name": "orchest-kernel-39071421-b7eb-4c4b-ba14-9e7684dbf0a6"
  },
  "language_info": {
   "codemirror_mode": {
    "name": "ipython",
    "version": 3
   },
   "file_extension": ".py",
   "mimetype": "text/x-python",
   "name": "python",
   "nbconvert_exporter": "python",
   "pygments_lexer": "ipython3",
   "version": "3.7.6"
  }
 },
 "nbformat": 4,
 "nbformat_minor": 4
}
